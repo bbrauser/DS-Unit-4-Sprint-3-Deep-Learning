{
  "nbformat": 4,
  "nbformat_minor": 0,
  "metadata": {
    "kernelspec": {
      "name": "python3",
      "display_name": "Python 3"
    },
    "nteract": {
      "version": "0.23.1"
    },
    "colab": {
      "name": "Copy of LS_DS_432_Convolution_Neural_Networks_Assignment.ipynb",
      "provenance": [],
      "machine_shape": "hm",
      "include_colab_link": true
    },
    "accelerator": "GPU"
  },
  "cells": [
    {
      "cell_type": "markdown",
      "metadata": {
        "id": "view-in-github",
        "colab_type": "text"
      },
      "source": [
        "<a href=\"https://colab.research.google.com/github/bbrauser/DS-Unit-4-Sprint-3-Deep-Learning/blob/main/module2-convolutional-neural-networks/LS_DS_432_Convolution_Neural_Networks_Assignment.ipynb\" target=\"_parent\"><img src=\"https://colab.research.google.com/assets/colab-badge.svg\" alt=\"Open In Colab\"/></a>"
      ]
    },
    {
      "cell_type": "markdown",
      "metadata": {
        "id": "fc4yMj7mtCAZ",
        "colab_type": "text"
      },
      "source": [
        "<img align=\"left\" src=\"https://lever-client-logos.s3.amazonaws.com/864372b1-534c-480e-acd5-9711f850815c-1524247202159.png\" width=200>\n",
        "<br></br>\n",
        "<br></br>\n",
        "\n",
        "## *Data Science Unit 4 Sprint 3 Assignment 2*\n",
        "# Convolutional Neural Networks (CNNs)"
      ]
    },
    {
      "cell_type": "markdown",
      "metadata": {
        "colab_type": "text",
        "id": "0lfZdD_cp1t5"
      },
      "source": [
        "# Assignment\n",
        "\n",
        "- <a href=\"#p1\">Part 1:</a> Pre-Trained Model\n",
        "- <a href=\"#p2\">Part 2:</a> Custom CNN Model\n",
        "- <a href=\"#p3\">Part 3:</a> CNN with Data Augmentation\n",
        "\n",
        "\n",
        "You will apply three different CNN models to a binary image classification model using Keras. Classify images of Mountains (`./data/train/mountain/*`) and images of forests (`./data/train/forest/*`). Treat mountains as the positive class (1) and the forest images as the negative (zero). \n",
        "\n",
        "|Mountain (+)|Forest (-)|\n",
        "|---|---|\n",
        "|![](https://github.com/LambdaSchool/DS-Unit-4-Sprint-3-Deep-Learning/blob/main/module2-convolutional-neural-networks/data/train/mountain/art1131.jpg?raw=1)|![](https://github.com/LambdaSchool/DS-Unit-4-Sprint-3-Deep-Learning/blob/main/module2-convolutional-neural-networks/data/validation/forest/cdmc317.jpg?raw=1)|\n",
        "\n",
        "The problem is relatively difficult given that the sample is tiny: there are about 350 observations per class. This sample size might be something that you can expect with prototyping an image classification problem/solution at work. Get accustomed to evaluating several different possible models."
      ]
    },
    {
      "cell_type": "markdown",
      "metadata": {
        "colab_type": "text",
        "id": "1eawBP-otCAb"
      },
      "source": [
        "# Pre - Trained Model\n",
        "<a id=\"p1\"></a>\n",
        "\n",
        "Load a pretrained network from Keras, [ResNet50](https://tfhub.dev/google/imagenet/resnet_v1_50/classification/1) - a 50 layer deep network trained to recognize [1000 objects](https://storage.googleapis.com/download.tensorflow.org/data/ImageNetLabels.txt). Starting usage:\n",
        "\n",
        "```python\n",
        "import numpy as np\n",
        "\n",
        "from tensorflow.keras.applications.resnet50 import ResNet50\n",
        "from tensorflow.keras.preprocessing import image\n",
        "from tensorflow.keras.applications.resnet50 import preprocess_input, decode_predictions\n",
        "\n",
        "from tensorflow.keras.layers import Dense, GlobalAveragePooling2D\n",
        "from tensorflow.keras.models import Model # This is the functional API\n",
        "\n",
        "resnet = ResNet50(weights='imagenet', include_top=False)\n",
        "\n",
        "```\n",
        "\n",
        "The `include_top` parameter in `ResNet50` will remove the full connected layers from the ResNet model. The next step is to turn off the training of the ResNet layers. We want to use the learned parameters without updating them in future training passes. \n",
        "\n",
        "```python\n",
        "for layer in resnet.layers:\n",
        "    layer.trainable = False\n",
        "```\n",
        "\n",
        "Using the Keras functional API, we will need to additional additional full connected layers to our model. We we removed the top layers, we removed all preivous fully connected layers. In other words, we kept only the feature processing portions of our network. You can expert with additional layers beyond what's listed here. The `GlobalAveragePooling2D` layer functions as a really fancy flatten function by taking the average of each of the last convolutional layer outputs (which is two dimensional still). \n",
        "\n",
        "```python\n",
        "x = resnet.output\n",
        "x = GlobalAveragePooling2D()(x) # This layer is a really fancy flatten\n",
        "x = Dense(1024, activation='relu')(x)\n",
        "predictions = Dense(1, activation='sigmoid')(x)\n",
        "model = Model(resnet.input, predictions)\n",
        "```\n",
        "\n",
        "Your assignment is to apply the transfer learning above to classify images of Mountains (`./data/train/mountain/*`) and images of forests (`./data/train/forest/*`). Treat mountains as the positive class (1) and the forest images as the negative (zero). \n",
        "\n",
        "Steps to complete assignment: \n",
        "1. Load in Image Data into numpy arrays (`X`) \n",
        "2. Create a `y` for the labels\n",
        "3. Train your model with pre-trained layers from resnet\n",
        "4. Report your model's accuracy"
      ]
    },
    {
      "cell_type": "markdown",
      "metadata": {
        "id": "CLdGdXCatCAb",
        "colab_type": "text"
      },
      "source": [
        "## Load in Data\n",
        "\n",
        "This surprisingly more difficult than it seems, because you are working with directories of images instead of a single file. This boiler plate will help you download a zipped version of the directory of images. The directory is organized into \"train\" and \"validation\" which you can use inside an `ImageGenerator` class to stream batches of images thru your model.  \n"
      ]
    },
    {
      "cell_type": "markdown",
      "metadata": {
        "id": "moRVuHUqtCAc",
        "colab_type": "text"
      },
      "source": [
        "### Download & Summarize the Data\n",
        "\n",
        "This step is completed for you. Just run the cells and review the results. "
      ]
    },
    {
      "cell_type": "code",
      "metadata": {
        "id": "AR66H8o9tCAc",
        "colab_type": "code",
        "colab": {}
      },
      "source": [
        "import tensorflow as tf\n",
        "import os\n",
        "\n",
        "_URL = 'https://github.com/LambdaSchool/DS-Unit-4-Sprint-3-Deep-Learning/blob/main/module2-convolutional-neural-networks/data.zip?raw=true'\n",
        "\n",
        "path_to_zip = tf.keras.utils.get_file('./data.zip', origin=_URL, extract=True)\n",
        "PATH = os.path.join(os.path.dirname(path_to_zip), 'data')"
      ],
      "execution_count": 1,
      "outputs": []
    },
    {
      "cell_type": "code",
      "metadata": {
        "id": "MNFsIu_KtCAg",
        "colab_type": "code",
        "colab": {}
      },
      "source": [
        "train_dir = os.path.join(PATH, 'train')\n",
        "validation_dir = os.path.join(PATH, 'validation')"
      ],
      "execution_count": 2,
      "outputs": []
    },
    {
      "cell_type": "code",
      "metadata": {
        "id": "OsI9BQLotCAj",
        "colab_type": "code",
        "colab": {}
      },
      "source": [
        "train_mountain_dir = os.path.join(train_dir, 'mountain')  # directory with our training cat pictures\n",
        "train_forest_dir = os.path.join(train_dir, 'forest')  # directory with our training dog pictures\n",
        "validation_mountain_dir = os.path.join(validation_dir, 'mountain')  # directory with our validation cat pictures\n",
        "validation_forest_dir = os.path.join(validation_dir, 'forest')  # directory with our validation dog pictures"
      ],
      "execution_count": 3,
      "outputs": []
    },
    {
      "cell_type": "code",
      "metadata": {
        "id": "NUs1e5-XtCAl",
        "colab_type": "code",
        "colab": {}
      },
      "source": [
        "num_mountain_tr = len(os.listdir(train_mountain_dir))\n",
        "num_forest_tr = len(os.listdir(train_forest_dir))\n",
        "\n",
        "num_mountain_val = len(os.listdir(validation_mountain_dir))\n",
        "num_forest_val = len(os.listdir(validation_forest_dir))\n",
        "\n",
        "total_train = num_mountain_tr + num_forest_tr\n",
        "total_val = num_mountain_val + num_forest_val"
      ],
      "execution_count": 4,
      "outputs": []
    },
    {
      "cell_type": "code",
      "metadata": {
        "id": "ZmklbgSMtCAn",
        "colab_type": "code",
        "colab": {
          "base_uri": "https://localhost:8080/",
          "height": 136
        },
        "outputId": "77759f52-c2a2-44d0-e8ae-62192bc1d7d7"
      },
      "source": [
        "print('total training mountain images:', num_mountain_tr)\n",
        "print('total training forest images:', num_forest_tr)\n",
        "\n",
        "print('total validation mountain images:', num_mountain_val)\n",
        "print('total validation forest images:', num_forest_val)\n",
        "print(\"--\")\n",
        "print(\"Total training images:\", total_train)\n",
        "print(\"Total validation images:\", total_val)"
      ],
      "execution_count": 5,
      "outputs": [
        {
          "output_type": "stream",
          "text": [
            "total training mountain images: 254\n",
            "total training forest images: 270\n",
            "total validation mountain images: 125\n",
            "total validation forest images: 62\n",
            "--\n",
            "Total training images: 524\n",
            "Total validation images: 187\n"
          ],
          "name": "stdout"
        }
      ]
    },
    {
      "cell_type": "markdown",
      "metadata": {
        "id": "dQ4ag4ultCAq",
        "colab_type": "text"
      },
      "source": [
        "### Keras `ImageGenerator` to Process the Data\n",
        "\n",
        "This step is completed for you, but please review the code. The `ImageGenerator` class reads in batches of data from a directory and pass them to the model one batch at a time. Just like large text files, this method is advantageous, because it stifles the need to load a bunch of images into memory. \n",
        "\n",
        "Check out the documentation for this class method: [Keras `ImageGenerator` Class](https://keras.io/preprocessing/image/#imagedatagenerator-class). You'll expand it's use in the third assignment objective."
      ]
    },
    {
      "cell_type": "code",
      "metadata": {
        "id": "67i9IW49tCAq",
        "colab_type": "code",
        "colab": {}
      },
      "source": [
        "batch_size = 16\n",
        "epochs = 50\n",
        "IMG_HEIGHT = 224\n",
        "IMG_WIDTH = 224"
      ],
      "execution_count": 41,
      "outputs": []
    },
    {
      "cell_type": "code",
      "metadata": {
        "id": "B1wNKMo1tCAt",
        "colab_type": "code",
        "colab": {}
      },
      "source": [
        "from tensorflow.keras.preprocessing.image import ImageDataGenerator\n",
        "\n",
        "train_image_generator = ImageDataGenerator(rescale=1./255) # Generator for our training data\n",
        "validation_image_generator = ImageDataGenerator(rescale=1./255) # Generator for our validation data"
      ],
      "execution_count": 42,
      "outputs": []
    },
    {
      "cell_type": "code",
      "metadata": {
        "id": "ndsuM4L9tCAv",
        "colab_type": "code",
        "colab": {
          "base_uri": "https://localhost:8080/",
          "height": 34
        },
        "outputId": "b8a601c4-ea4e-45b7-eaf7-4ee0bbbfa285"
      },
      "source": [
        "train_data_gen = train_image_generator.flow_from_directory(batch_size=batch_size,\n",
        "                                                           directory=train_dir,\n",
        "                                                           shuffle=True,\n",
        "                                                           target_size=(IMG_HEIGHT, IMG_WIDTH),\n",
        "                                                           class_mode='binary')"
      ],
      "execution_count": 43,
      "outputs": [
        {
          "output_type": "stream",
          "text": [
            "Found 533 images belonging to 2 classes.\n"
          ],
          "name": "stdout"
        }
      ]
    },
    {
      "cell_type": "code",
      "metadata": {
        "id": "9kxlk3optCAy",
        "colab_type": "code",
        "colab": {
          "base_uri": "https://localhost:8080/",
          "height": 34
        },
        "outputId": "b12efc36-e5f2-491f-8cb1-99b1a93f5419"
      },
      "source": [
        "val_data_gen = validation_image_generator.flow_from_directory(batch_size=batch_size,\n",
        "                                                              directory=validation_dir,\n",
        "                                                              target_size=(IMG_HEIGHT, IMG_WIDTH),\n",
        "                                                              class_mode='binary')"
      ],
      "execution_count": 44,
      "outputs": [
        {
          "output_type": "stream",
          "text": [
            "Found 195 images belonging to 2 classes.\n"
          ],
          "name": "stdout"
        }
      ]
    },
    {
      "cell_type": "markdown",
      "metadata": {
        "id": "2l7ue6NutCA0",
        "colab_type": "text"
      },
      "source": [
        "## Instatiate Model"
      ]
    },
    {
      "cell_type": "code",
      "metadata": {
        "id": "mKNIYOEItCA0",
        "colab_type": "code",
        "colab": {}
      },
      "source": [
        "import numpy as np\n",
        " \n",
        "from tensorflow.keras.applications.resnet50 import ResNet50\n",
        "from tensorflow.keras.preprocessing import image\n",
        "from tensorflow.keras.applications.resnet50 import preprocess_input, decode_predictions\n",
        " \n",
        "from tensorflow.keras.layers import Dense, GlobalAveragePooling2D\n",
        "from tensorflow.keras.models import Model # This is the functional API\n",
        " \n",
        "resnet = ResNet50(weights='imagenet', include_top=False)\n",
        "\n",
        "for layer in resnet.layers:\n",
        "    layer.trainable = False\n",
        "\n",
        "x = resnet.output\n",
        "x = GlobalAveragePooling2D()(x) # This layer is a really fancy flatten\n",
        "x = Dense(1024, activation='relu')(x)\n",
        "predictions = Dense(1, activation='sigmoid')(x)\n",
        "model0 = Model(resnet.input, predictions)\n",
        "model0.compile(optimizer='adam',\n",
        "              loss='binary_crossentropy',\n",
        "              metrics=['accuracy'])"
      ],
      "execution_count": 10,
      "outputs": []
    },
    {
      "cell_type": "markdown",
      "metadata": {
        "id": "BVPBWYG7tCA2",
        "colab_type": "text"
      },
      "source": [
        "## Fit Model"
      ]
    },
    {
      "cell_type": "code",
      "metadata": {
        "id": "H4XdvWA5tCA3",
        "colab_type": "code",
        "colab": {
          "base_uri": "https://localhost:8080/",
          "height": 1000
        },
        "outputId": "ae815cd8-81c1-4ed8-81db-9baa4c03c0cc"
      },
      "source": [
        "model0.fit(\n",
        "    train_data_gen,\n",
        "    steps_per_epoch=total_train // batch_size,\n",
        "    epochs=epochs,\n",
        "    validation_data=val_data_gen,\n",
        "    validation_steps=total_val // batch_size\n",
        ")"
      ],
      "execution_count": 11,
      "outputs": [
        {
          "output_type": "stream",
          "text": [
            "Epoch 1/50\n",
            "32/32 [==============================] - 3s 85ms/step - loss: 0.8188 - accuracy: 0.5170 - val_loss: 0.8490 - val_accuracy: 0.3580\n",
            "Epoch 2/50\n",
            "32/32 [==============================] - 2s 58ms/step - loss: 0.5693 - accuracy: 0.7665 - val_loss: 0.6046 - val_accuracy: 0.7273\n",
            "Epoch 3/50\n",
            "32/32 [==============================] - 2s 58ms/step - loss: 0.5013 - accuracy: 0.7864 - val_loss: 0.4707 - val_accuracy: 0.7386\n",
            "Epoch 4/50\n",
            "32/32 [==============================] - 2s 58ms/step - loss: 0.4578 - accuracy: 0.8144 - val_loss: 0.8649 - val_accuracy: 0.4318\n",
            "Epoch 5/50\n",
            "32/32 [==============================] - 2s 58ms/step - loss: 0.4363 - accuracy: 0.7864 - val_loss: 0.9892 - val_accuracy: 0.4432\n",
            "Epoch 6/50\n",
            "32/32 [==============================] - 2s 59ms/step - loss: 0.4326 - accuracy: 0.8164 - val_loss: 0.3847 - val_accuracy: 0.8068\n",
            "Epoch 7/50\n",
            "32/32 [==============================] - 2s 60ms/step - loss: 0.3492 - accuracy: 0.8750 - val_loss: 0.3419 - val_accuracy: 0.8750\n",
            "Epoch 8/50\n",
            "32/32 [==============================] - 2s 59ms/step - loss: 0.3367 - accuracy: 0.8882 - val_loss: 0.5931 - val_accuracy: 0.6989\n",
            "Epoch 9/50\n",
            "32/32 [==============================] - 2s 58ms/step - loss: 0.3526 - accuracy: 0.8563 - val_loss: 0.4027 - val_accuracy: 0.8409\n",
            "Epoch 10/50\n",
            "32/32 [==============================] - 2s 58ms/step - loss: 0.4039 - accuracy: 0.8224 - val_loss: 0.4102 - val_accuracy: 0.7841\n",
            "Epoch 11/50\n",
            "32/32 [==============================] - 2s 59ms/step - loss: 0.4375 - accuracy: 0.7665 - val_loss: 0.3546 - val_accuracy: 0.7841\n",
            "Epoch 12/50\n",
            "32/32 [==============================] - 2s 59ms/step - loss: 0.3045 - accuracy: 0.8703 - val_loss: 0.2761 - val_accuracy: 0.9148\n",
            "Epoch 13/50\n",
            "32/32 [==============================] - 2s 59ms/step - loss: 0.2169 - accuracy: 0.9301 - val_loss: 0.3812 - val_accuracy: 0.8466\n",
            "Epoch 14/50\n",
            "32/32 [==============================] - 2s 59ms/step - loss: 0.2719 - accuracy: 0.9102 - val_loss: 0.7777 - val_accuracy: 0.6193\n",
            "Epoch 15/50\n",
            "32/32 [==============================] - 2s 58ms/step - loss: 0.3175 - accuracy: 0.8543 - val_loss: 0.5302 - val_accuracy: 0.7784\n",
            "Epoch 16/50\n",
            "32/32 [==============================] - 2s 59ms/step - loss: 0.2561 - accuracy: 0.9042 - val_loss: 0.2486 - val_accuracy: 0.9148\n",
            "Epoch 17/50\n",
            "32/32 [==============================] - 2s 58ms/step - loss: 0.2123 - accuracy: 0.9261 - val_loss: 0.2558 - val_accuracy: 0.9261\n",
            "Epoch 18/50\n",
            "32/32 [==============================] - 2s 58ms/step - loss: 0.2059 - accuracy: 0.9301 - val_loss: 0.2578 - val_accuracy: 0.8864\n",
            "Epoch 19/50\n",
            "32/32 [==============================] - 2s 60ms/step - loss: 0.2008 - accuracy: 0.9202 - val_loss: 0.5998 - val_accuracy: 0.7330\n",
            "Epoch 20/50\n",
            "32/32 [==============================] - 2s 58ms/step - loss: 0.3098 - accuracy: 0.8643 - val_loss: 0.2346 - val_accuracy: 0.9091\n",
            "Epoch 21/50\n",
            "32/32 [==============================] - 2s 58ms/step - loss: 0.2351 - accuracy: 0.9042 - val_loss: 0.2496 - val_accuracy: 0.8977\n",
            "Epoch 22/50\n",
            "32/32 [==============================] - 2s 58ms/step - loss: 0.1699 - accuracy: 0.9401 - val_loss: 0.2268 - val_accuracy: 0.9318\n",
            "Epoch 23/50\n",
            "32/32 [==============================] - 2s 58ms/step - loss: 0.2254 - accuracy: 0.8962 - val_loss: 0.2430 - val_accuracy: 0.9148\n",
            "Epoch 24/50\n",
            "32/32 [==============================] - 2s 58ms/step - loss: 0.1693 - accuracy: 0.9421 - val_loss: 0.2142 - val_accuracy: 0.9432\n",
            "Epoch 25/50\n",
            "32/32 [==============================] - 2s 58ms/step - loss: 0.1649 - accuracy: 0.9361 - val_loss: 0.2230 - val_accuracy: 0.9375\n",
            "Epoch 26/50\n",
            "32/32 [==============================] - 2s 57ms/step - loss: 0.1503 - accuracy: 0.9401 - val_loss: 0.2553 - val_accuracy: 0.9091\n",
            "Epoch 27/50\n",
            "32/32 [==============================] - 2s 59ms/step - loss: 0.1829 - accuracy: 0.9082 - val_loss: 0.2013 - val_accuracy: 0.9489\n",
            "Epoch 28/50\n",
            "32/32 [==============================] - 2s 58ms/step - loss: 0.1918 - accuracy: 0.9281 - val_loss: 0.2444 - val_accuracy: 0.9091\n",
            "Epoch 29/50\n",
            "32/32 [==============================] - 2s 58ms/step - loss: 0.1773 - accuracy: 0.9301 - val_loss: 0.1822 - val_accuracy: 0.9432\n",
            "Epoch 30/50\n",
            "32/32 [==============================] - 2s 58ms/step - loss: 0.1142 - accuracy: 0.9661 - val_loss: 0.2121 - val_accuracy: 0.9375\n",
            "Epoch 31/50\n",
            "32/32 [==============================] - 2s 57ms/step - loss: 0.1460 - accuracy: 0.9421 - val_loss: 0.5532 - val_accuracy: 0.7614\n",
            "Epoch 32/50\n",
            "32/32 [==============================] - 2s 57ms/step - loss: 0.2084 - accuracy: 0.9102 - val_loss: 0.2161 - val_accuracy: 0.9318\n",
            "Epoch 33/50\n",
            "32/32 [==============================] - 2s 58ms/step - loss: 0.1127 - accuracy: 0.9570 - val_loss: 0.3028 - val_accuracy: 0.8750\n",
            "Epoch 34/50\n",
            "32/32 [==============================] - 2s 57ms/step - loss: 0.1742 - accuracy: 0.9341 - val_loss: 0.2521 - val_accuracy: 0.9034\n",
            "Epoch 35/50\n",
            "32/32 [==============================] - 2s 58ms/step - loss: 0.1262 - accuracy: 0.9501 - val_loss: 0.2038 - val_accuracy: 0.9318\n",
            "Epoch 36/50\n",
            "32/32 [==============================] - 2s 57ms/step - loss: 0.1351 - accuracy: 0.9481 - val_loss: 0.1799 - val_accuracy: 0.9432\n",
            "Epoch 37/50\n",
            "32/32 [==============================] - 2s 58ms/step - loss: 0.1203 - accuracy: 0.9541 - val_loss: 0.3345 - val_accuracy: 0.8693\n",
            "Epoch 38/50\n",
            "32/32 [==============================] - 2s 58ms/step - loss: 0.0993 - accuracy: 0.9681 - val_loss: 0.2019 - val_accuracy: 0.9375\n",
            "Epoch 39/50\n",
            "32/32 [==============================] - 2s 57ms/step - loss: 0.0794 - accuracy: 0.9741 - val_loss: 0.1890 - val_accuracy: 0.9432\n",
            "Epoch 40/50\n",
            "32/32 [==============================] - 2s 57ms/step - loss: 0.0897 - accuracy: 0.9741 - val_loss: 0.3979 - val_accuracy: 0.8352\n",
            "Epoch 41/50\n",
            "32/32 [==============================] - 2s 59ms/step - loss: 0.1098 - accuracy: 0.9521 - val_loss: 0.4239 - val_accuracy: 0.8295\n",
            "Epoch 42/50\n",
            "32/32 [==============================] - 2s 57ms/step - loss: 0.0865 - accuracy: 0.9701 - val_loss: 0.1945 - val_accuracy: 0.9375\n",
            "Epoch 43/50\n",
            "32/32 [==============================] - 2s 58ms/step - loss: 0.0783 - accuracy: 0.9721 - val_loss: 0.2338 - val_accuracy: 0.9318\n",
            "Epoch 44/50\n",
            "32/32 [==============================] - 2s 58ms/step - loss: 0.0930 - accuracy: 0.9681 - val_loss: 0.2091 - val_accuracy: 0.9261\n",
            "Epoch 45/50\n",
            "32/32 [==============================] - 2s 57ms/step - loss: 0.1116 - accuracy: 0.9481 - val_loss: 0.2742 - val_accuracy: 0.9148\n",
            "Epoch 46/50\n",
            "32/32 [==============================] - 2s 56ms/step - loss: 0.0899 - accuracy: 0.9681 - val_loss: 0.1785 - val_accuracy: 0.9489\n",
            "Epoch 47/50\n",
            "32/32 [==============================] - 2s 58ms/step - loss: 0.1111 - accuracy: 0.9601 - val_loss: 0.1536 - val_accuracy: 0.9489\n",
            "Epoch 48/50\n",
            "32/32 [==============================] - 2s 57ms/step - loss: 0.1296 - accuracy: 0.9421 - val_loss: 0.2492 - val_accuracy: 0.9034\n",
            "Epoch 49/50\n",
            "32/32 [==============================] - 2s 57ms/step - loss: 0.0932 - accuracy: 0.9681 - val_loss: 0.1997 - val_accuracy: 0.9318\n",
            "Epoch 50/50\n",
            "32/32 [==============================] - 2s 57ms/step - loss: 0.0727 - accuracy: 0.9780 - val_loss: 0.4702 - val_accuracy: 0.8182\n"
          ],
          "name": "stdout"
        },
        {
          "output_type": "execute_result",
          "data": {
            "text/plain": [
              "<tensorflow.python.keras.callbacks.History at 0x7f6ed02ae630>"
            ]
          },
          "metadata": {
            "tags": []
          },
          "execution_count": 11
        }
      ]
    },
    {
      "cell_type": "markdown",
      "metadata": {
        "id": "UPzsgS94tCA5",
        "colab_type": "text"
      },
      "source": [
        "# Custom CNN Model\n",
        "\n",
        "In this step, write and train your own convolutional neural network using Keras. You can use any architecture that suits you as long as it has at least one convolutional and one pooling layer at the beginning of the network - you can add more if you want. "
      ]
    },
    {
      "cell_type": "code",
      "metadata": {
        "id": "hnbJJie3tCA5",
        "colab_type": "code",
        "colab": {}
      },
      "source": [
        "# Define the Model\n",
        "from tensorflow.keras.models import Sequential\n",
        "from tensorflow.keras.layers import Conv2D, MaxPooling2D, Flatten, Dense, LSTM\n",
        "\n",
        "model = Sequential()\n",
        "model.add(Conv2D(128, (4,4), activation='relu', input_shape=(224,224,3)))\n",
        "model.add(MaxPooling2D((4,4)))\n",
        "model.add(Conv2D(128, (4,4), activation='relu'))\n",
        "model.add(MaxPooling2D((4,4)))\n",
        "model.add(Flatten())\n",
        "model.add(Dense(64, activation='relu'))\n",
        "model.add(Dense(1, activation='sigmoid'))"
      ],
      "execution_count": 12,
      "outputs": []
    },
    {
      "cell_type": "code",
      "metadata": {
        "id": "1P_mRtoutCA9",
        "colab_type": "code",
        "colab": {}
      },
      "source": [
        "# Compile Model\n",
        "model.compile(optimizer='adam', loss='binary_crossentropy', metrics=['accuracy'])"
      ],
      "execution_count": 13,
      "outputs": []
    },
    {
      "cell_type": "code",
      "metadata": {
        "id": "CwM4GsaetCA_",
        "colab_type": "code",
        "colab": {
          "base_uri": "https://localhost:8080/",
          "height": 1000
        },
        "outputId": "5a7ed908-31f0-4198-a7cd-3fbb61c2b2ce"
      },
      "source": [
        "# Fit Model\n",
        "model.fit(\n",
        "    train_data_gen,\n",
        "    steps_per_epoch=total_train // batch_size,\n",
        "    epochs=epochs,\n",
        "    validation_data=val_data_gen,\n",
        "    validation_steps=total_val // batch_size\n",
        ")"
      ],
      "execution_count": 14,
      "outputs": [
        {
          "output_type": "stream",
          "text": [
            "Epoch 1/50\n",
            "32/32 [==============================] - 2s 61ms/step - loss: 0.4098 - accuracy: 0.8084 - val_loss: 0.2539 - val_accuracy: 0.8864\n",
            "Epoch 2/50\n",
            "32/32 [==============================] - 2s 57ms/step - loss: 0.2012 - accuracy: 0.9381 - val_loss: 0.4593 - val_accuracy: 0.7898\n",
            "Epoch 3/50\n",
            "32/32 [==============================] - 2s 56ms/step - loss: 0.2003 - accuracy: 0.9122 - val_loss: 0.3880 - val_accuracy: 0.8750\n",
            "Epoch 4/50\n",
            "32/32 [==============================] - 2s 56ms/step - loss: 0.2921 - accuracy: 0.8782 - val_loss: 0.2303 - val_accuracy: 0.9148\n",
            "Epoch 5/50\n",
            "32/32 [==============================] - 2s 56ms/step - loss: 0.1731 - accuracy: 0.9501 - val_loss: 0.3349 - val_accuracy: 0.8693\n",
            "Epoch 6/50\n",
            "32/32 [==============================] - 2s 57ms/step - loss: 0.2158 - accuracy: 0.9222 - val_loss: 0.1962 - val_accuracy: 0.9091\n",
            "Epoch 7/50\n",
            "32/32 [==============================] - 2s 57ms/step - loss: 0.2253 - accuracy: 0.9062 - val_loss: 0.2068 - val_accuracy: 0.9148\n",
            "Epoch 8/50\n",
            "32/32 [==============================] - 2s 57ms/step - loss: 0.1847 - accuracy: 0.9238 - val_loss: 0.1645 - val_accuracy: 0.9489\n",
            "Epoch 9/50\n",
            "32/32 [==============================] - 2s 58ms/step - loss: 0.0976 - accuracy: 0.9561 - val_loss: 0.1497 - val_accuracy: 0.9432\n",
            "Epoch 10/50\n",
            "32/32 [==============================] - 2s 57ms/step - loss: 0.1098 - accuracy: 0.9601 - val_loss: 0.1695 - val_accuracy: 0.9545\n",
            "Epoch 11/50\n",
            "32/32 [==============================] - 2s 55ms/step - loss: 0.0861 - accuracy: 0.9701 - val_loss: 0.1374 - val_accuracy: 0.9659\n",
            "Epoch 12/50\n",
            "32/32 [==============================] - 2s 55ms/step - loss: 0.0647 - accuracy: 0.9760 - val_loss: 0.2122 - val_accuracy: 0.9375\n",
            "Epoch 13/50\n",
            "32/32 [==============================] - 2s 55ms/step - loss: 0.0917 - accuracy: 0.9681 - val_loss: 0.4619 - val_accuracy: 0.8409\n",
            "Epoch 14/50\n",
            "32/32 [==============================] - 2s 55ms/step - loss: 0.0957 - accuracy: 0.9661 - val_loss: 0.1751 - val_accuracy: 0.9375\n",
            "Epoch 15/50\n",
            "32/32 [==============================] - 2s 55ms/step - loss: 0.0577 - accuracy: 0.9721 - val_loss: 0.1544 - val_accuracy: 0.9489\n",
            "Epoch 16/50\n",
            "32/32 [==============================] - 2s 55ms/step - loss: 0.0874 - accuracy: 0.9541 - val_loss: 0.3370 - val_accuracy: 0.8807\n",
            "Epoch 17/50\n",
            "32/32 [==============================] - 2s 55ms/step - loss: 0.0599 - accuracy: 0.9780 - val_loss: 0.1327 - val_accuracy: 0.9375\n",
            "Epoch 18/50\n",
            "32/32 [==============================] - 2s 55ms/step - loss: 0.0181 - accuracy: 1.0000 - val_loss: 0.1317 - val_accuracy: 0.9261\n",
            "Epoch 19/50\n",
            "32/32 [==============================] - 2s 55ms/step - loss: 0.0167 - accuracy: 0.9960 - val_loss: 0.1878 - val_accuracy: 0.9489\n",
            "Epoch 20/50\n",
            "32/32 [==============================] - 2s 55ms/step - loss: 0.0339 - accuracy: 0.9860 - val_loss: 0.1592 - val_accuracy: 0.9375\n",
            "Epoch 21/50\n",
            "32/32 [==============================] - 2s 55ms/step - loss: 0.0959 - accuracy: 0.9621 - val_loss: 0.1432 - val_accuracy: 0.9432\n",
            "Epoch 22/50\n",
            "32/32 [==============================] - 2s 55ms/step - loss: 0.0329 - accuracy: 0.9880 - val_loss: 0.4495 - val_accuracy: 0.8693\n",
            "Epoch 23/50\n",
            "32/32 [==============================] - 2s 55ms/step - loss: 0.0464 - accuracy: 0.9840 - val_loss: 0.1965 - val_accuracy: 0.9148\n",
            "Epoch 24/50\n",
            "32/32 [==============================] - 2s 56ms/step - loss: 0.0545 - accuracy: 0.9780 - val_loss: 0.1834 - val_accuracy: 0.9489\n",
            "Epoch 25/50\n",
            "32/32 [==============================] - 2s 55ms/step - loss: 0.0093 - accuracy: 0.9960 - val_loss: 0.1500 - val_accuracy: 0.9375\n",
            "Epoch 26/50\n",
            "32/32 [==============================] - 2s 56ms/step - loss: 0.0205 - accuracy: 0.9902 - val_loss: 0.1671 - val_accuracy: 0.9375\n",
            "Epoch 27/50\n",
            "32/32 [==============================] - 2s 56ms/step - loss: 0.0242 - accuracy: 0.9900 - val_loss: 0.2829 - val_accuracy: 0.9261\n",
            "Epoch 28/50\n",
            "32/32 [==============================] - 2s 56ms/step - loss: 0.0495 - accuracy: 0.9860 - val_loss: 0.1884 - val_accuracy: 0.9432\n",
            "Epoch 29/50\n",
            "32/32 [==============================] - 2s 55ms/step - loss: 0.0122 - accuracy: 0.9980 - val_loss: 0.3545 - val_accuracy: 0.9148\n",
            "Epoch 30/50\n",
            "32/32 [==============================] - 2s 55ms/step - loss: 0.0031 - accuracy: 1.0000 - val_loss: 0.3687 - val_accuracy: 0.9318\n",
            "Epoch 31/50\n",
            "32/32 [==============================] - 2s 55ms/step - loss: 9.5574e-04 - accuracy: 1.0000 - val_loss: 0.3224 - val_accuracy: 0.9432\n",
            "Epoch 32/50\n",
            "32/32 [==============================] - 2s 55ms/step - loss: 5.9902e-04 - accuracy: 1.0000 - val_loss: 0.3357 - val_accuracy: 0.9489\n",
            "Epoch 33/50\n",
            "32/32 [==============================] - 2s 56ms/step - loss: 4.4084e-04 - accuracy: 1.0000 - val_loss: 0.2750 - val_accuracy: 0.9545\n",
            "Epoch 34/50\n",
            "32/32 [==============================] - 2s 56ms/step - loss: 3.9332e-04 - accuracy: 1.0000 - val_loss: 0.2723 - val_accuracy: 0.9545\n",
            "Epoch 35/50\n",
            "32/32 [==============================] - 2s 56ms/step - loss: 3.2354e-04 - accuracy: 1.0000 - val_loss: 0.3437 - val_accuracy: 0.9432\n",
            "Epoch 36/50\n",
            "32/32 [==============================] - 2s 56ms/step - loss: 2.6162e-04 - accuracy: 1.0000 - val_loss: 0.3518 - val_accuracy: 0.9432\n",
            "Epoch 37/50\n",
            "32/32 [==============================] - 2s 55ms/step - loss: 2.6589e-04 - accuracy: 1.0000 - val_loss: 0.3718 - val_accuracy: 0.9432\n",
            "Epoch 38/50\n",
            "32/32 [==============================] - 2s 56ms/step - loss: 2.2581e-04 - accuracy: 1.0000 - val_loss: 0.3763 - val_accuracy: 0.9432\n",
            "Epoch 39/50\n",
            "32/32 [==============================] - 2s 55ms/step - loss: 2.0360e-04 - accuracy: 1.0000 - val_loss: 0.3873 - val_accuracy: 0.9375\n",
            "Epoch 40/50\n",
            "32/32 [==============================] - 2s 55ms/step - loss: 1.8249e-04 - accuracy: 1.0000 - val_loss: 0.3280 - val_accuracy: 0.9432\n",
            "Epoch 41/50\n",
            "32/32 [==============================] - 2s 56ms/step - loss: 1.6138e-04 - accuracy: 1.0000 - val_loss: 0.3907 - val_accuracy: 0.9375\n",
            "Epoch 42/50\n",
            "32/32 [==============================] - 2s 55ms/step - loss: 1.5618e-04 - accuracy: 1.0000 - val_loss: 0.3629 - val_accuracy: 0.9432\n",
            "Epoch 43/50\n",
            "32/32 [==============================] - 2s 57ms/step - loss: 1.4738e-04 - accuracy: 1.0000 - val_loss: 0.4057 - val_accuracy: 0.9375\n",
            "Epoch 44/50\n",
            "32/32 [==============================] - 2s 56ms/step - loss: 1.3066e-04 - accuracy: 1.0000 - val_loss: 0.3715 - val_accuracy: 0.9489\n",
            "Epoch 45/50\n",
            "32/32 [==============================] - 2s 56ms/step - loss: 1.2384e-04 - accuracy: 1.0000 - val_loss: 0.3970 - val_accuracy: 0.9489\n",
            "Epoch 46/50\n",
            "32/32 [==============================] - 2s 56ms/step - loss: 1.1584e-04 - accuracy: 1.0000 - val_loss: 0.4115 - val_accuracy: 0.9375\n",
            "Epoch 47/50\n",
            "32/32 [==============================] - 2s 57ms/step - loss: 1.0278e-04 - accuracy: 1.0000 - val_loss: 0.4144 - val_accuracy: 0.9375\n",
            "Epoch 48/50\n",
            "32/32 [==============================] - 2s 56ms/step - loss: 9.4325e-05 - accuracy: 1.0000 - val_loss: 0.3356 - val_accuracy: 0.9545\n",
            "Epoch 49/50\n",
            "32/32 [==============================] - 2s 56ms/step - loss: 8.3081e-05 - accuracy: 1.0000 - val_loss: 0.4116 - val_accuracy: 0.9489\n",
            "Epoch 50/50\n",
            "32/32 [==============================] - 2s 56ms/step - loss: 8.3785e-05 - accuracy: 1.0000 - val_loss: 0.3977 - val_accuracy: 0.9489\n"
          ],
          "name": "stdout"
        },
        {
          "output_type": "execute_result",
          "data": {
            "text/plain": [
              "<tensorflow.python.keras.callbacks.History at 0x7f6e6a05aa58>"
            ]
          },
          "metadata": {
            "tags": []
          },
          "execution_count": 14
        }
      ]
    },
    {
      "cell_type": "code",
      "metadata": {
        "id": "BixqPF1bJwJv",
        "colab_type": "code",
        "colab": {
          "base_uri": "https://localhost:8080/",
          "height": 341
        },
        "outputId": "cf483a80-2f60-4c91-b012-a1de25df0957"
      },
      "source": [
        "test_loss, test_acc = model.evaluate(train_data_gen, val_data_gen, verbose=2)"
      ],
      "execution_count": 15,
      "outputs": [
        {
          "output_type": "error",
          "ename": "ValueError",
          "evalue": "ignored",
          "traceback": [
            "\u001b[0;31m---------------------------------------------------------------------------\u001b[0m",
            "\u001b[0;31mValueError\u001b[0m                                Traceback (most recent call last)",
            "\u001b[0;32m<ipython-input-15-2ba65010a571>\u001b[0m in \u001b[0;36m<module>\u001b[0;34m()\u001b[0m\n\u001b[0;32m----> 1\u001b[0;31m \u001b[0mtest_loss\u001b[0m\u001b[0;34m,\u001b[0m \u001b[0mtest_acc\u001b[0m \u001b[0;34m=\u001b[0m \u001b[0mmodel\u001b[0m\u001b[0;34m.\u001b[0m\u001b[0mevaluate\u001b[0m\u001b[0;34m(\u001b[0m\u001b[0mtrain_data_gen\u001b[0m\u001b[0;34m,\u001b[0m \u001b[0mval_data_gen\u001b[0m\u001b[0;34m,\u001b[0m \u001b[0mverbose\u001b[0m\u001b[0;34m=\u001b[0m\u001b[0;36m2\u001b[0m\u001b[0;34m)\u001b[0m\u001b[0;34m\u001b[0m\u001b[0;34m\u001b[0m\u001b[0m\n\u001b[0m",
            "\u001b[0;32m/usr/local/lib/python3.6/dist-packages/tensorflow/python/keras/engine/training.py\u001b[0m in \u001b[0;36m_method_wrapper\u001b[0;34m(self, *args, **kwargs)\u001b[0m\n\u001b[1;32m    106\u001b[0m   \u001b[0;32mdef\u001b[0m \u001b[0m_method_wrapper\u001b[0m\u001b[0;34m(\u001b[0m\u001b[0mself\u001b[0m\u001b[0;34m,\u001b[0m \u001b[0;34m*\u001b[0m\u001b[0margs\u001b[0m\u001b[0;34m,\u001b[0m \u001b[0;34m**\u001b[0m\u001b[0mkwargs\u001b[0m\u001b[0;34m)\u001b[0m\u001b[0;34m:\u001b[0m\u001b[0;34m\u001b[0m\u001b[0;34m\u001b[0m\u001b[0m\n\u001b[1;32m    107\u001b[0m     \u001b[0;32mif\u001b[0m \u001b[0;32mnot\u001b[0m \u001b[0mself\u001b[0m\u001b[0;34m.\u001b[0m\u001b[0m_in_multi_worker_mode\u001b[0m\u001b[0;34m(\u001b[0m\u001b[0;34m)\u001b[0m\u001b[0;34m:\u001b[0m  \u001b[0;31m# pylint: disable=protected-access\u001b[0m\u001b[0;34m\u001b[0m\u001b[0;34m\u001b[0m\u001b[0m\n\u001b[0;32m--> 108\u001b[0;31m       \u001b[0;32mreturn\u001b[0m \u001b[0mmethod\u001b[0m\u001b[0;34m(\u001b[0m\u001b[0mself\u001b[0m\u001b[0;34m,\u001b[0m \u001b[0;34m*\u001b[0m\u001b[0margs\u001b[0m\u001b[0;34m,\u001b[0m \u001b[0;34m**\u001b[0m\u001b[0mkwargs\u001b[0m\u001b[0;34m)\u001b[0m\u001b[0;34m\u001b[0m\u001b[0;34m\u001b[0m\u001b[0m\n\u001b[0m\u001b[1;32m    109\u001b[0m \u001b[0;34m\u001b[0m\u001b[0m\n\u001b[1;32m    110\u001b[0m     \u001b[0;31m# Running inside `run_distribute_coordinator` already.\u001b[0m\u001b[0;34m\u001b[0m\u001b[0;34m\u001b[0m\u001b[0;34m\u001b[0m\u001b[0m\n",
            "\u001b[0;32m/usr/local/lib/python3.6/dist-packages/tensorflow/python/keras/engine/training.py\u001b[0m in \u001b[0;36mevaluate\u001b[0;34m(self, x, y, batch_size, verbose, sample_weight, steps, callbacks, max_queue_size, workers, use_multiprocessing, return_dict)\u001b[0m\n\u001b[1;32m   1354\u001b[0m             \u001b[0muse_multiprocessing\u001b[0m\u001b[0;34m=\u001b[0m\u001b[0muse_multiprocessing\u001b[0m\u001b[0;34m,\u001b[0m\u001b[0;34m\u001b[0m\u001b[0;34m\u001b[0m\u001b[0m\n\u001b[1;32m   1355\u001b[0m             \u001b[0mmodel\u001b[0m\u001b[0;34m=\u001b[0m\u001b[0mself\u001b[0m\u001b[0;34m,\u001b[0m\u001b[0;34m\u001b[0m\u001b[0;34m\u001b[0m\u001b[0m\n\u001b[0;32m-> 1356\u001b[0;31m             steps_per_execution=self._steps_per_execution)\n\u001b[0m\u001b[1;32m   1357\u001b[0m \u001b[0;34m\u001b[0m\u001b[0m\n\u001b[1;32m   1358\u001b[0m       \u001b[0;31m# Container that configures and calls `tf.keras.Callback`s.\u001b[0m\u001b[0;34m\u001b[0m\u001b[0;34m\u001b[0m\u001b[0;34m\u001b[0m\u001b[0m\n",
            "\u001b[0;32m/usr/local/lib/python3.6/dist-packages/tensorflow/python/keras/engine/data_adapter.py\u001b[0m in \u001b[0;36m__init__\u001b[0;34m(self, x, y, sample_weight, batch_size, steps_per_epoch, initial_epoch, epochs, shuffle, class_weight, max_queue_size, workers, use_multiprocessing, model, steps_per_execution)\u001b[0m\n\u001b[1;32m   1115\u001b[0m         \u001b[0muse_multiprocessing\u001b[0m\u001b[0;34m=\u001b[0m\u001b[0muse_multiprocessing\u001b[0m\u001b[0;34m,\u001b[0m\u001b[0;34m\u001b[0m\u001b[0;34m\u001b[0m\u001b[0m\n\u001b[1;32m   1116\u001b[0m         \u001b[0mdistribution_strategy\u001b[0m\u001b[0;34m=\u001b[0m\u001b[0mds_context\u001b[0m\u001b[0;34m.\u001b[0m\u001b[0mget_strategy\u001b[0m\u001b[0;34m(\u001b[0m\u001b[0;34m)\u001b[0m\u001b[0;34m,\u001b[0m\u001b[0;34m\u001b[0m\u001b[0;34m\u001b[0m\u001b[0m\n\u001b[0;32m-> 1117\u001b[0;31m         model=model)\n\u001b[0m\u001b[1;32m   1118\u001b[0m \u001b[0;34m\u001b[0m\u001b[0m\n\u001b[1;32m   1119\u001b[0m     \u001b[0mstrategy\u001b[0m \u001b[0;34m=\u001b[0m \u001b[0mds_context\u001b[0m\u001b[0;34m.\u001b[0m\u001b[0mget_strategy\u001b[0m\u001b[0;34m(\u001b[0m\u001b[0;34m)\u001b[0m\u001b[0;34m\u001b[0m\u001b[0;34m\u001b[0m\u001b[0m\n",
            "\u001b[0;32m/usr/local/lib/python3.6/dist-packages/tensorflow/python/keras/engine/data_adapter.py\u001b[0m in \u001b[0;36m__init__\u001b[0;34m(self, x, y, sample_weights, shuffle, workers, use_multiprocessing, max_queue_size, model, **kwargs)\u001b[0m\n\u001b[1;32m    897\u001b[0m                **kwargs):\n\u001b[1;32m    898\u001b[0m     \u001b[0;32mif\u001b[0m \u001b[0;32mnot\u001b[0m \u001b[0mis_none_or_empty\u001b[0m\u001b[0;34m(\u001b[0m\u001b[0my\u001b[0m\u001b[0;34m)\u001b[0m\u001b[0;34m:\u001b[0m\u001b[0;34m\u001b[0m\u001b[0;34m\u001b[0m\u001b[0m\n\u001b[0;32m--> 899\u001b[0;31m       raise ValueError(\"`y` argument is not supported when using \"\n\u001b[0m\u001b[1;32m    900\u001b[0m                        \"`keras.utils.Sequence` as input.\")\n\u001b[1;32m    901\u001b[0m     \u001b[0;32mif\u001b[0m \u001b[0;32mnot\u001b[0m \u001b[0mis_none_or_empty\u001b[0m\u001b[0;34m(\u001b[0m\u001b[0msample_weights\u001b[0m\u001b[0;34m)\u001b[0m\u001b[0;34m:\u001b[0m\u001b[0;34m\u001b[0m\u001b[0;34m\u001b[0m\u001b[0m\n",
            "\u001b[0;31mValueError\u001b[0m: `y` argument is not supported when using `keras.utils.Sequence` as input."
          ]
        }
      ]
    },
    {
      "cell_type": "markdown",
      "metadata": {
        "id": "FNTHjUddtCBB",
        "colab_type": "text"
      },
      "source": [
        "# Custom CNN Model with Image Manipulations\n",
        "\n",
        "To simulate an increase in a sample of image, you can apply image manipulation techniques: cropping, rotation, stretching, etc. Luckily Keras has some handy functions for us to apply these techniques to our mountain and forest example. Simply, you should be able to modify our image generator for the problem. Check out these resources to help you get started: \n",
        "\n",
        "1. [Keras `ImageGenerator` Class](https://keras.io/preprocessing/image/#imagedatagenerator-class)\n",
        "2. [Building a powerful image classifier with very little data](https://blog.keras.io/building-powerful-image-classification-models-using-very-little-data.html)\n",
        " "
      ]
    },
    {
      "cell_type": "code",
      "metadata": {
        "id": "EJ4zDZIoNwyj",
        "colab_type": "code",
        "colab": {}
      },
      "source": [
        "from tensorflow.keras.preprocessing.image import ImageDataGenerator\n",
        "\n",
        "train_image_generator2 = ImageDataGenerator(rotation_range=40,\n",
        "        width_shift_range=0.2,\n",
        "        height_shift_range=0.2,\n",
        "        rescale=1./255,\n",
        "        shear_range=0.2,\n",
        "        zoom_range=0.2,\n",
        "        horizontal_flip=True,\n",
        "        fill_mode='nearest') # Generator for our training data\n",
        "validation_image_generator = ImageDataGenerator(rescale=1./255) # Generator for our validation data"
      ],
      "execution_count": 40,
      "outputs": []
    },
    {
      "cell_type": "code",
      "metadata": {
        "id": "kOytxdUcMQsA",
        "colab_type": "code",
        "colab": {
          "base_uri": "https://localhost:8080/",
          "height": 51
        },
        "outputId": "295c0413-bc7c-4320-b96e-bbe57fe37df4"
      },
      "source": [
        "train_data_gen = train_image_generator.flow_from_directory(batch_size=batch_size,\n",
        "                                                           directory=train_dir,\n",
        "                                                           shuffle=True,\n",
        "                                                           target_size=(IMG_HEIGHT, IMG_WIDTH),\n",
        "                                                           class_mode='binary')\n",
        "\n",
        "val_data_gen = validation_image_generator.flow_from_directory(batch_size=batch_size,\n",
        "                                                              directory=validation_dir,\n",
        "                                                              target_size=(IMG_HEIGHT, IMG_WIDTH),\n",
        "                                                              class_mode='binary')"
      ],
      "execution_count": 45,
      "outputs": [
        {
          "output_type": "stream",
          "text": [
            "Found 533 images belonging to 2 classes.\n",
            "Found 195 images belonging to 2 classes.\n"
          ],
          "name": "stdout"
        }
      ]
    },
    {
      "cell_type": "code",
      "metadata": {
        "id": "uYAB1b_B6Zv7",
        "colab_type": "code",
        "colab": {}
      },
      "source": [
        "import numpy as np\n",
        " \n",
        "from tensorflow.keras.applications.resnet50 import ResNet50\n",
        "from tensorflow.keras.preprocessing import image\n",
        "from tensorflow.keras.applications.resnet50 import preprocess_input, decode_predictions\n",
        " \n",
        "from tensorflow.keras.layers import Dense, GlobalAveragePooling2D\n",
        "from tensorflow.keras.models import Model # This is the functional API\n",
        " \n",
        "resnet = ResNet50(weights='imagenet', include_top=False)\n",
        "\n",
        "for layer in resnet.layers:\n",
        "    layer.trainable = False\n",
        "\n",
        "x = resnet.output\n",
        "x = GlobalAveragePooling2D()(x) # This layer is a really fancy flatten\n",
        "x = Dense(1024, activation='relu')(x)\n",
        "predictions = Dense(1, activation='sigmoid')(x)\n",
        "model2 = Model(resnet.input, predictions)\n",
        "model2.compile(optimizer='adam',\n",
        "              loss='binary_crossentropy',\n",
        "              metrics=['accuracy'])"
      ],
      "execution_count": 46,
      "outputs": []
    },
    {
      "cell_type": "code",
      "metadata": {
        "id": "wdfkD9T76ZyW",
        "colab_type": "code",
        "colab": {
          "base_uri": "https://localhost:8080/",
          "height": 1000
        },
        "outputId": "baabeef0-6100-4e1e-dd73-f241722cadaf"
      },
      "source": [
        "model2.fit(\n",
        "    train_data_gen,\n",
        "    steps_per_epoch=total_train // batch_size,\n",
        "    epochs=epochs,\n",
        "    validation_data=val_data_gen,\n",
        "    validation_steps=total_val // batch_size\n",
        ")"
      ],
      "execution_count": 47,
      "outputs": [
        {
          "output_type": "stream",
          "text": [
            "Epoch 1/50\n",
            "32/32 [==============================] - 3s 80ms/step - loss: 0.8950 - accuracy: 0.5110 - val_loss: 0.5968 - val_accuracy: 0.6818\n",
            "Epoch 2/50\n",
            "32/32 [==============================] - 2s 56ms/step - loss: 0.6518 - accuracy: 0.5968 - val_loss: 0.5741 - val_accuracy: 0.7841\n",
            "Epoch 3/50\n",
            "32/32 [==============================] - 2s 55ms/step - loss: 0.5747 - accuracy: 0.6906 - val_loss: 0.4985 - val_accuracy: 0.8409\n",
            "Epoch 4/50\n",
            "32/32 [==============================] - 2s 55ms/step - loss: 0.5304 - accuracy: 0.7665 - val_loss: 0.6402 - val_accuracy: 0.6080\n",
            "Epoch 5/50\n",
            "32/32 [==============================] - 2s 56ms/step - loss: 0.4588 - accuracy: 0.8204 - val_loss: 0.4763 - val_accuracy: 0.8182\n",
            "Epoch 6/50\n",
            "32/32 [==============================] - 2s 57ms/step - loss: 0.4164 - accuracy: 0.8516 - val_loss: 0.4926 - val_accuracy: 0.8011\n",
            "Epoch 7/50\n",
            "32/32 [==============================] - 2s 56ms/step - loss: 0.4159 - accuracy: 0.8164 - val_loss: 0.4627 - val_accuracy: 0.8068\n",
            "Epoch 8/50\n",
            "32/32 [==============================] - 2s 55ms/step - loss: 0.4426 - accuracy: 0.8044 - val_loss: 0.4064 - val_accuracy: 0.8523\n",
            "Epoch 9/50\n",
            "32/32 [==============================] - 2s 56ms/step - loss: 0.3617 - accuracy: 0.8623 - val_loss: 0.3798 - val_accuracy: 0.8523\n",
            "Epoch 10/50\n",
            "32/32 [==============================] - 2s 55ms/step - loss: 0.3097 - accuracy: 0.9062 - val_loss: 0.3909 - val_accuracy: 0.8352\n",
            "Epoch 11/50\n",
            "32/32 [==============================] - 2s 55ms/step - loss: 0.2966 - accuracy: 0.9102 - val_loss: 0.6476 - val_accuracy: 0.6250\n",
            "Epoch 12/50\n",
            "32/32 [==============================] - 2s 55ms/step - loss: 0.3945 - accuracy: 0.7964 - val_loss: 0.3267 - val_accuracy: 0.8636\n",
            "Epoch 13/50\n",
            "32/32 [==============================] - 2s 56ms/step - loss: 0.2836 - accuracy: 0.8882 - val_loss: 0.3226 - val_accuracy: 0.8295\n",
            "Epoch 14/50\n",
            "32/32 [==============================] - 2s 54ms/step - loss: 0.2700 - accuracy: 0.9022 - val_loss: 0.2972 - val_accuracy: 0.9261\n",
            "Epoch 15/50\n",
            "32/32 [==============================] - 2s 55ms/step - loss: 0.2474 - accuracy: 0.9242 - val_loss: 0.3978 - val_accuracy: 0.8466\n",
            "Epoch 16/50\n",
            "32/32 [==============================] - 2s 55ms/step - loss: 0.2527 - accuracy: 0.8942 - val_loss: 0.2952 - val_accuracy: 0.8807\n",
            "Epoch 17/50\n",
            "32/32 [==============================] - 2s 55ms/step - loss: 0.2333 - accuracy: 0.9142 - val_loss: 0.2637 - val_accuracy: 0.9205\n",
            "Epoch 18/50\n",
            "32/32 [==============================] - 2s 55ms/step - loss: 0.2131 - accuracy: 0.9301 - val_loss: 0.2823 - val_accuracy: 0.8977\n",
            "Epoch 19/50\n",
            "32/32 [==============================] - 2s 55ms/step - loss: 0.2176 - accuracy: 0.9202 - val_loss: 0.2874 - val_accuracy: 0.8693\n",
            "Epoch 20/50\n",
            "32/32 [==============================] - 2s 55ms/step - loss: 0.2398 - accuracy: 0.9141 - val_loss: 0.2570 - val_accuracy: 0.9091\n",
            "Epoch 21/50\n",
            "32/32 [==============================] - 2s 56ms/step - loss: 0.2360 - accuracy: 0.9002 - val_loss: 0.2902 - val_accuracy: 0.8693\n",
            "Epoch 22/50\n",
            "32/32 [==============================] - 2s 55ms/step - loss: 0.1832 - accuracy: 0.9501 - val_loss: 0.2449 - val_accuracy: 0.9261\n",
            "Epoch 23/50\n",
            "32/32 [==============================] - 2s 55ms/step - loss: 0.1736 - accuracy: 0.9381 - val_loss: 0.2158 - val_accuracy: 0.9432\n",
            "Epoch 24/50\n",
            "32/32 [==============================] - 2s 56ms/step - loss: 0.2141 - accuracy: 0.9182 - val_loss: 0.2324 - val_accuracy: 0.9375\n",
            "Epoch 25/50\n",
            "32/32 [==============================] - 2s 56ms/step - loss: 0.1602 - accuracy: 0.9461 - val_loss: 0.2315 - val_accuracy: 0.9148\n",
            "Epoch 26/50\n",
            "32/32 [==============================] - 2s 55ms/step - loss: 0.1445 - accuracy: 0.9561 - val_loss: 0.1839 - val_accuracy: 0.9489\n",
            "Epoch 27/50\n",
            "32/32 [==============================] - 2s 56ms/step - loss: 0.2198 - accuracy: 0.9022 - val_loss: 0.3357 - val_accuracy: 0.8125\n",
            "Epoch 28/50\n",
            "32/32 [==============================] - 2s 56ms/step - loss: 0.1758 - accuracy: 0.9281 - val_loss: 0.2182 - val_accuracy: 0.9318\n",
            "Epoch 29/50\n",
            "32/32 [==============================] - 2s 55ms/step - loss: 0.1281 - accuracy: 0.9648 - val_loss: 0.2061 - val_accuracy: 0.9375\n",
            "Epoch 30/50\n",
            "32/32 [==============================] - 2s 56ms/step - loss: 0.1484 - accuracy: 0.9461 - val_loss: 0.3367 - val_accuracy: 0.8636\n",
            "Epoch 31/50\n",
            "32/32 [==============================] - 2s 56ms/step - loss: 0.1314 - accuracy: 0.9501 - val_loss: 0.2699 - val_accuracy: 0.8920\n",
            "Epoch 32/50\n",
            "32/32 [==============================] - 2s 56ms/step - loss: 0.1171 - accuracy: 0.9561 - val_loss: 0.2931 - val_accuracy: 0.8580\n",
            "Epoch 33/50\n",
            "32/32 [==============================] - 2s 56ms/step - loss: 0.1314 - accuracy: 0.9561 - val_loss: 0.2776 - val_accuracy: 0.8807\n",
            "Epoch 34/50\n",
            "32/32 [==============================] - 2s 56ms/step - loss: 0.1562 - accuracy: 0.9501 - val_loss: 0.3502 - val_accuracy: 0.8182\n",
            "Epoch 35/50\n",
            "32/32 [==============================] - 2s 55ms/step - loss: 0.1591 - accuracy: 0.9461 - val_loss: 0.1781 - val_accuracy: 0.9432\n",
            "Epoch 36/50\n",
            "32/32 [==============================] - 2s 55ms/step - loss: 0.1067 - accuracy: 0.9681 - val_loss: 0.2299 - val_accuracy: 0.9205\n",
            "Epoch 37/50\n",
            "32/32 [==============================] - 2s 57ms/step - loss: 0.1157 - accuracy: 0.9501 - val_loss: 0.1924 - val_accuracy: 0.9432\n",
            "Epoch 38/50\n",
            "32/32 [==============================] - 2s 55ms/step - loss: 0.1551 - accuracy: 0.9481 - val_loss: 0.3961 - val_accuracy: 0.8466\n",
            "Epoch 39/50\n",
            "32/32 [==============================] - 2s 56ms/step - loss: 0.2388 - accuracy: 0.9002 - val_loss: 0.2728 - val_accuracy: 0.8807\n",
            "Epoch 40/50\n",
            "32/32 [==============================] - 2s 55ms/step - loss: 0.1071 - accuracy: 0.9621 - val_loss: 0.1847 - val_accuracy: 0.9432\n",
            "Epoch 41/50\n",
            "32/32 [==============================] - 2s 55ms/step - loss: 0.1519 - accuracy: 0.9321 - val_loss: 0.2708 - val_accuracy: 0.8977\n",
            "Epoch 42/50\n",
            "32/32 [==============================] - 2s 54ms/step - loss: 0.0865 - accuracy: 0.9741 - val_loss: 0.1964 - val_accuracy: 0.9318\n",
            "Epoch 43/50\n",
            "32/32 [==============================] - 2s 56ms/step - loss: 0.1212 - accuracy: 0.9561 - val_loss: 0.3241 - val_accuracy: 0.8693\n",
            "Epoch 44/50\n",
            "32/32 [==============================] - 2s 56ms/step - loss: 0.0817 - accuracy: 0.9760 - val_loss: 0.1791 - val_accuracy: 0.9489\n",
            "Epoch 45/50\n",
            "32/32 [==============================] - 2s 56ms/step - loss: 0.0732 - accuracy: 0.9820 - val_loss: 0.2527 - val_accuracy: 0.9205\n",
            "Epoch 46/50\n",
            "32/32 [==============================] - 2s 56ms/step - loss: 0.0770 - accuracy: 0.9741 - val_loss: 0.1961 - val_accuracy: 0.9318\n",
            "Epoch 47/50\n",
            "32/32 [==============================] - 2s 58ms/step - loss: 0.1357 - accuracy: 0.9441 - val_loss: 0.2604 - val_accuracy: 0.9205\n",
            "Epoch 48/50\n",
            "32/32 [==============================] - 2s 58ms/step - loss: 0.1116 - accuracy: 0.9581 - val_loss: 0.5009 - val_accuracy: 0.8125\n",
            "Epoch 49/50\n",
            "32/32 [==============================] - 2s 58ms/step - loss: 0.0930 - accuracy: 0.9648 - val_loss: 0.3217 - val_accuracy: 0.8693\n",
            "Epoch 50/50\n",
            "32/32 [==============================] - 2s 56ms/step - loss: 0.0725 - accuracy: 0.9780 - val_loss: 0.1847 - val_accuracy: 0.9432\n"
          ],
          "name": "stdout"
        },
        {
          "output_type": "execute_result",
          "data": {
            "text/plain": [
              "<tensorflow.python.keras.callbacks.History at 0x7f6c63dd4160>"
            ]
          },
          "metadata": {
            "tags": []
          },
          "execution_count": 47
        }
      ]
    },
    {
      "cell_type": "markdown",
      "metadata": {
        "colab_type": "text",
        "id": "uT3UV3gap9H6"
      },
      "source": [
        "# Resources and Stretch Goals\n",
        "\n",
        "Stretch goals\n",
        "- Enhance your code to use classes/functions and accept terms to search and classes to look for in recognizing the downloaded images (e.g. download images of parties, recognize all that contain balloons)\n",
        "- Check out [other available pretrained networks](https://tfhub.dev), try some and compare\n",
        "- Image recognition/classification is somewhat solved, but *relationships* between entities and describing an image is not - check out some of the extended resources (e.g. [Visual Genome](https://visualgenome.org/)) on the topic\n",
        "- Transfer learning - using images you source yourself, [retrain a classifier](https://www.tensorflow.org/hub/tutorials/image_retraining) with a new category\n",
        "- (Not CNN related) Use [piexif](https://pypi.org/project/piexif/) to check out the metadata of images passed in to your system - see if they're from a national park! (Note - many images lack GPS metadata, so this won't work in most cases, but still cool)\n",
        "\n",
        "Resources\n",
        "- [Deep Residual Learning for Image Recognition](https://arxiv.org/abs/1512.03385) - influential paper (introduced ResNet)\n",
        "- [YOLO: Real-Time Object Detection](https://pjreddie.com/darknet/yolo/) - an influential convolution based object detection system, focused on inference speed (for applications to e.g. self driving vehicles)\n",
        "- [R-CNN, Fast R-CNN, Faster R-CNN, YOLO](https://towardsdatascience.com/r-cnn-fast-r-cnn-faster-r-cnn-yolo-object-detection-algorithms-36d53571365e) - comparison of object detection systems\n",
        "- [Common Objects in Context](http://cocodataset.org/) - a large-scale object detection, segmentation, and captioning dataset\n",
        "- [Visual Genome](https://visualgenome.org/) - a dataset, a knowledge base, an ongoing effort to connect structured image concepts to language"
      ]
    }
  ]
}